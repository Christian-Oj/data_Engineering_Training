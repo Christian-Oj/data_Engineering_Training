{
    "cells": [
        {
            "cell_type": "code",
            "execution_count": 21,
            "source": [
                "from pyspark.sql import SparkSession, Row, Column\n",
                "from datetime import datetime, date\n",
                "import pandas as pd\n",
                "from pyspark.sql.functions import upper"
            ],
            "outputs": [],
            "metadata": {}
        },
        {
            "cell_type": "code",
            "execution_count": 3,
            "source": [
                "spark = SparkSession.builder.getOrCreate()"
            ],
            "outputs": [],
            "metadata": {}
        },
        {
            "cell_type": "code",
            "execution_count": 5,
            "source": [
                "df = spark.createDataFrame([\n",
                "    (1, 2., 'string1', date(2000, 1, 1), datetime(2000, 1, 1, 12, 0)),\n",
                "    (2, 3., 'string2', date(2000, 2, 1), datetime(2000, 1, 2, 12, 0)),\n",
                "    (3, 4., 'string3', date(2000, 3, 1), datetime(2000, 1, 3, 12, 0))\n",
                "], schema='a long, b double, c string, d date, e timestamp')\n",
                "df"
            ],
            "outputs": [
                {
                    "output_type": "execute_result",
                    "data": {
                        "text/plain": [
                            "DataFrame[a: bigint, b: double, c: string, d: date, e: timestamp]"
                        ]
                    },
                    "metadata": {},
                    "execution_count": 5
                }
            ],
            "metadata": {}
        },
        {
            "cell_type": "code",
            "execution_count": null,
            "source": [
                "df.show(2, vertical=True)"
            ],
            "outputs": [],
            "metadata": {}
        },
        {
            "cell_type": "code",
            "execution_count": 14,
            "source": [
                "col = df.columns\n",
                "print(col, \"and it's type is\", type(col))"
            ],
            "outputs": [
                {
                    "output_type": "stream",
                    "name": "stdout",
                    "text": [
                        "['a', 'b', 'c', 'd', 'e'] and it's type is <class 'list'>\n"
                    ]
                }
            ],
            "metadata": {}
        },
        {
            "cell_type": "code",
            "execution_count": 18,
            "source": [
                "# DataFrame.collect() collects the distributed data to the driver side as the local data in Python. \n",
                "# Note that this can throw an out-of-memory error when the dataset is too large to fit in \n",
                "# the driver side because it collects all the data from executors to the driver side.\n",
                "\n",
                "df.collect()\n",
                "\n",
                "# In order to avoid throwing an out-of-memory exception, use DataFrame.take() or DataFrame.tail().\n",
                "\n",
                "df.tail(1)\n",
                "df.take(1)"
            ],
            "outputs": [
                {
                    "output_type": "execute_result",
                    "data": {
                        "text/plain": [
                            "[Row(a=1, b=2.0, c='string1', d=datetime.date(2000, 1, 1), e=datetime.datetime(2000, 1, 1, 12, 0))]"
                        ]
                    },
                    "metadata": {},
                    "execution_count": 18
                }
            ],
            "metadata": {}
        },
        {
            "cell_type": "code",
            "execution_count": 15,
            "source": [
                "df.describe().show()"
            ],
            "outputs": [
                {
                    "output_type": "stream",
                    "name": "stdout",
                    "text": [
                        "+-------+---+---+-------+\n",
                        "|summary|  a|  b|      c|\n",
                        "+-------+---+---+-------+\n",
                        "|  count|  3|  3|      3|\n",
                        "|   mean|2.0|3.0|   null|\n",
                        "| stddev|1.0|1.0|   null|\n",
                        "|    min|  1|2.0|string1|\n",
                        "|    max|  3|4.0|string3|\n",
                        "+-------+---+---+-------+\n",
                        "\n"
                    ]
                }
            ],
            "metadata": {}
        },
        {
            "cell_type": "code",
            "execution_count": 19,
            "source": [
                "# PySpark DataFrame also provides the conversion back to a pandas DataFrame to leverage pandas APIs. \n",
                "# Note that toPandas also collects all data into the driver side that can easily cause an out-of-memory-error \n",
                "# when the data is too large to fit into the driver side.\n",
                "\n",
                "df.toPandas()"
            ],
            "outputs": [
                {
                    "output_type": "execute_result",
                    "data": {
                        "text/plain": [
                            "   a    b        c           d                   e\n",
                            "0  1  2.0  string1  2000-01-01 2000-01-01 12:00:00\n",
                            "1  2  3.0  string2  2000-02-01 2000-01-02 12:00:00\n",
                            "2  3  4.0  string3  2000-03-01 2000-01-03 12:00:00"
                        ],
                        "text/html": [
                            "<div>\n",
                            "<style scoped>\n",
                            "    .dataframe tbody tr th:only-of-type {\n",
                            "        vertical-align: middle;\n",
                            "    }\n",
                            "\n",
                            "    .dataframe tbody tr th {\n",
                            "        vertical-align: top;\n",
                            "    }\n",
                            "\n",
                            "    .dataframe thead th {\n",
                            "        text-align: right;\n",
                            "    }\n",
                            "</style>\n",
                            "<table border=\"1\" class=\"dataframe\">\n",
                            "  <thead>\n",
                            "    <tr style=\"text-align: right;\">\n",
                            "      <th></th>\n",
                            "      <th>a</th>\n",
                            "      <th>b</th>\n",
                            "      <th>c</th>\n",
                            "      <th>d</th>\n",
                            "      <th>e</th>\n",
                            "    </tr>\n",
                            "  </thead>\n",
                            "  <tbody>\n",
                            "    <tr>\n",
                            "      <th>0</th>\n",
                            "      <td>1</td>\n",
                            "      <td>2.0</td>\n",
                            "      <td>string1</td>\n",
                            "      <td>2000-01-01</td>\n",
                            "      <td>2000-01-01 12:00:00</td>\n",
                            "    </tr>\n",
                            "    <tr>\n",
                            "      <th>1</th>\n",
                            "      <td>2</td>\n",
                            "      <td>3.0</td>\n",
                            "      <td>string2</td>\n",
                            "      <td>2000-02-01</td>\n",
                            "      <td>2000-01-02 12:00:00</td>\n",
                            "    </tr>\n",
                            "    <tr>\n",
                            "      <th>2</th>\n",
                            "      <td>3</td>\n",
                            "      <td>4.0</td>\n",
                            "      <td>string3</td>\n",
                            "      <td>2000-03-01</td>\n",
                            "      <td>2000-01-03 12:00:00</td>\n",
                            "    </tr>\n",
                            "  </tbody>\n",
                            "</table>\n",
                            "</div>"
                        ]
                    },
                    "metadata": {},
                    "execution_count": 19
                }
            ],
            "metadata": {}
        },
        {
            "cell_type": "code",
            "execution_count": 23,
            "source": [
                "type(df.c) == type(upper(df.c)) == type(df.c.isNull())"
            ],
            "outputs": [
                {
                    "output_type": "execute_result",
                    "data": {
                        "text/plain": [
                            "True"
                        ]
                    },
                    "metadata": {},
                    "execution_count": 23
                }
            ],
            "metadata": {}
        },
        {
            "cell_type": "code",
            "execution_count": null,
            "source": [
                "## Create new addition column\n",
                "df.withColumn('upper', upper(df.c)).show()"
            ],
            "outputs": [],
            "metadata": {}
        },
        {
            "cell_type": "code",
            "execution_count": 26,
            "source": [
                "# Filter the data\n",
                "df.filter(df.a == 1).show()"
            ],
            "outputs": [
                {
                    "output_type": "stream",
                    "name": "stdout",
                    "text": [
                        "+---+---+-------+----------+-------------------+\n",
                        "|  a|  b|      c|         d|                  e|\n",
                        "+---+---+-------+----------+-------------------+\n",
                        "|  1|2.0|string1|2000-01-01|2000-01-01 12:00:00|\n",
                        "+---+---+-------+----------+-------------------+\n",
                        "\n"
                    ]
                }
            ],
            "metadata": {}
        },
        {
            "cell_type": "code",
            "execution_count": null,
            "source": [
                "# PySpark supports various UDFs and APIs to allow users to execute Python native functions. See also the latest Pandas UDFs \n",
                "# and Pandas Function APIs. For instance, the example below allows users to directly use the APIs in a pandas Series within \n",
                "# Python native function.\n",
                "\n",
                "from pyspark.sql.functions import pandas_udf\n",
                "\n",
                "@pandas_udf('long')\n",
                "def pandas_udf_one(series: pd.Series) -> pd.Series:\n",
                "    return series + 1\n",
                "# def pandas_udf_one(series):\n",
                "#     return series + 1\n",
                "\n",
                "df.select(pandas_udf_one(df.a)).show()"
            ],
            "outputs": [],
            "metadata": {}
        },
        {
            "cell_type": "code",
            "execution_count": 35,
            "source": [
                "new_dataFrame = spark.createDataFrame([\n",
                "    ['red', 'banana', 1, 10], ['blue', 'banana', 2, 20], ['red', 'carrot', 3, 30],\n",
                "    ['blue', 'grape', 4, 40], ['red', 'carrot', 5, 50], ['black', 'carrot', 6, 60],\n",
                "    ['red', 'banana', 7, 70], ['red', 'grape', 8, 80]], schema=['color', 'fruit', 'v1', 'v2'])\n",
                "df.collect()"
            ],
            "outputs": [
                {
                    "output_type": "execute_result",
                    "data": {
                        "text/plain": [
                            "[Row(a=1, b=2.0, c='string1', d=datetime.date(2000, 1, 1), e=datetime.datetime(2000, 1, 1, 12, 0)),\n",
                            " Row(a=2, b=3.0, c='string2', d=datetime.date(2000, 2, 1), e=datetime.datetime(2000, 1, 2, 12, 0)),\n",
                            " Row(a=3, b=4.0, c='string3', d=datetime.date(2000, 3, 1), e=datetime.datetime(2000, 1, 3, 12, 0))]"
                        ]
                    },
                    "metadata": {},
                    "execution_count": 35
                }
            ],
            "metadata": {}
        },
        {
            "cell_type": "code",
            "execution_count": 36,
            "source": [
                "## Group dataframe by color\n",
                "new_dataFrame.groupBy('color').avg().show()"
            ],
            "outputs": [
                {
                    "output_type": "stream",
                    "name": "stdout",
                    "text": [
                        "+-----+-------+-------+\n",
                        "|color|avg(v1)|avg(v2)|\n",
                        "+-----+-------+-------+\n",
                        "|  red|    4.8|   48.0|\n",
                        "|black|    6.0|   60.0|\n",
                        "| blue|    3.0|   30.0|\n",
                        "+-----+-------+-------+\n",
                        "\n"
                    ]
                }
            ],
            "metadata": {}
        },
        {
            "cell_type": "code",
            "execution_count": 40,
            "source": [
                "data = spark.read.csv(\"resources-names/yob1880.txt\")"
            ],
            "outputs": [],
            "metadata": {}
        },
        {
            "cell_type": "code",
            "execution_count": 43,
            "source": [
                "data.describe().show()"
            ],
            "outputs": [
                {
                    "output_type": "stream",
                    "name": "stdout",
                    "text": [
                        "+-------+-----+----+------------------+\n",
                        "|summary|  _c0| _c1|               _c2|\n",
                        "+-------+-----+----+------------------+\n",
                        "|  count| 2000|2000|              2000|\n",
                        "|   mean|  NaN|null|           100.742|\n",
                        "| stddev| null|null|466.10919893160707|\n",
                        "|    min|Aaron|   F|                10|\n",
                        "|    max| Zula|   M|               995|\n",
                        "+-------+-----+----+------------------+\n",
                        "\n"
                    ]
                }
            ],
            "metadata": {}
        }
    ],
    "metadata": {
        "orig_nbformat": 4,
        "language_info": {
            "name": "python",
            "version": "3.8.5",
            "mimetype": "text/x-python",
            "codemirror_mode": {
                "name": "ipython",
                "version": 3
            },
            "pygments_lexer": "ipython3",
            "nbconvert_exporter": "python",
            "file_extension": ".py"
        },
        "kernelspec": {
            "name": "python3",
            "display_name": "Python 3.8.5 64-bit ('base': conda)"
        },
        "interpreter": {
            "hash": "dca0ade3e726a953b501b15e8e990130d2b7799f14cfd9f4271676035ebe5511"
        }
    },
    "nbformat": 4,
    "nbformat_minor": 2
}